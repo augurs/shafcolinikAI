{
 "cells": [
  {
   "cell_type": "code",
   "execution_count": 16,
   "id": "cd9f77aa",
   "metadata": {},
   "outputs": [],
   "source": [
    "import requests\n",
    "from PIL import Image\n",
    "from IPython.display import display\n",
    "import base64\n",
    "import json\n"
   ]
  },
  {
   "cell_type": "code",
   "execution_count": null,
   "id": "30f5148e",
   "metadata": {},
   "outputs": [],
   "source": [
    "image_path = '../images/front-image.png'  # Replace this with your image filename\n",
    "image = Image.open(image_path)\n",
    "display(image)\n"
   ]
  },
  {
   "cell_type": "code",
   "execution_count": 17,
   "id": "a14b27e0",
   "metadata": {},
   "outputs": [],
   "source": [
    "def encode_image_base64(image_path):\n",
    "    with open(image_path, \"rb\") as f:\n",
    "        return base64.b64encode(f.read()).decode('utf-8')\n",
    "\n",
    "image_base64 = encode_image_base64(image_path)\n"
   ]
  },
  {
   "cell_type": "code",
   "execution_count": 20,
   "id": "636a2807",
   "metadata": {},
   "outputs": [
    {
     "name": "stdout",
     "output_type": "stream",
     "text": [
      "⚠️ Model response was not valid JSON:\n",
      "```json\n",
      "{\n",
      "  \"height\": 170,\n",
      "  \"chest\": 95,\n",
      "  \"waist\": 78,\n",
      "  \"hips\": 93,\n",
      "  \"inseam\": 82,\n",
      "  \"thigh\": 56,\n",
      "  \"neck\": 40,\n",
      "  \"arm_length\": 72\n",
      "}\n",
      "```\n"
     ]
    }
   ],
   "source": [
    "\n",
    "url = \"http://45.157.234.103:11434/api/generate\"\n",
    "user_height = 170  # Known height in cm\n",
    "\n",
    "# Updated prompt that *forces* a valid JSON response\n",
    "prompt = (\n",
    "    f\"The person's actual height is {user_height} cm. \"\n",
    "    \"Using this height as a reference, estimate the person's body measurements from the image. \"\n",
    "    \"Estimate the following fields in centimeters: chest, waist, hips, inseam, thigh, neck, and arm_length. \"\n",
    "    \"Return the result as a JSON object, formatted like this:\\n\\n\"\n",
    "    \"{\\n\"\n",
    "    \"  \\\"height\\\": 170,\\n\"\n",
    "    \"  \\\"chest\\\": <value>,\\n\"\n",
    "    \"  \\\"waist\\\": <value>,\\n\"\n",
    "    \"  \\\"hips\\\": <value>,\\n\"\n",
    "    \"  \\\"inseam\\\": <value>,\\n\"\n",
    "    \"  \\\"thigh\\\": <value>,\\n\"\n",
    "    \"  \\\"neck\\\": <value>,\\n\"\n",
    "    \"  \\\"arm_length\\\": <value>\\n\"\n",
    "    \"}\\n\\n\"\n",
    "    \"Only return the JSON — no explanation, no commentary.\"\n",
    ")\n",
    "\n",
    "payload = {\n",
    "    \"model\": \"gemma3:12b\",\n",
    "    \"prompt\": prompt,\n",
    "    \"images\": [image_base64],\n",
    "    \"stream\": False\n",
    "}\n",
    "\n",
    "response = requests.post(url, json=payload)\n",
    "result = response.json()\n",
    "\n",
    "# Try parsing the response as JSON\n",
    "try:\n",
    "    measurements = json.loads(result['response'])\n",
    "    print(\"✅ Parsed JSON response:\")\n",
    "    print(json.dumps(measurements, indent=2))\n",
    "except json.JSONDecodeError:\n",
    "    print(\"⚠️ Model response was not valid JSON:\")\n",
    "    print(result['response'])\n"
   ]
  }
 ],
 "metadata": {
  "kernelspec": {
   "display_name": "venv",
   "language": "python",
   "name": "python3"
  },
  "language_info": {
   "codemirror_mode": {
    "name": "ipython",
    "version": 3
   },
   "file_extension": ".py",
   "mimetype": "text/x-python",
   "name": "python",
   "nbconvert_exporter": "python",
   "pygments_lexer": "ipython3",
   "version": "3.11.0"
  }
 },
 "nbformat": 4,
 "nbformat_minor": 5
}
