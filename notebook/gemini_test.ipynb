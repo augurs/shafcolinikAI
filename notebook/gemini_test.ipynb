{
 "cells": [
  {
   "cell_type": "code",
   "execution_count": 37,
   "id": "a83e6cf5",
   "metadata": {},
   "outputs": [],
   "source": [
    "\n",
    "import google.generativeai as genai\n",
    "from PIL import Image\n",
    "from dotenv import load_dotenv\n",
    "import json\n",
    "import os\n",
    "from io import BytesIO\n",
    "import pprint"
   ]
  },
  {
   "cell_type": "code",
   "execution_count": 38,
   "id": "2696acdf",
   "metadata": {},
   "outputs": [],
   "source": [
    "load_dotenv()\n",
    "genai.configure(api_key=os.getenv(\"GEMINI_API_KEY\"))"
   ]
  },
  {
   "cell_type": "code",
   "execution_count": 39,
   "id": "fa232cdc",
   "metadata": {},
   "outputs": [],
   "source": [
    "# Gemini prompt\n",
    "GEMINI_PROMPT = \"\"\"\n",
    "You are an expert in biometric image validation and body measurement estimation.\n",
    "\n",
    "Your task is to analyze the input image and return a JSON response with the following keys:\n",
    "\n",
    "{\n",
    "  \"valid\": true/false,\n",
    "  \"full_body\": true/false,\n",
    "  \"one_person\": true/false,\n",
    "  \"standing_pose\": true/false,\n",
    "  \"background_ok\": true/false,\n",
    "  \"view\": \"front\" | \"back\" | \"unknown\",\n",
    "  \"reasons\": {\n",
    "    \"full_body\": \"...\",\n",
    "    \"one_person\": \"...\",\n",
    "    \"standing_pose\": \"...\",\n",
    "    \"background_ok\": \"...\",\n",
    "    \"view\": \"...\"\n",
    "  },\n",
    "  \"measurements\": {\n",
    "    \"height_cm\": number | null,\n",
    "    \"chest_cm\": number | null,\n",
    "    \"waist_cm\": number | null,\n",
    "    \"hip_cm\": number | null,\n",
    "    \"inseam_cm\": number | null,\n",
    "  },\n",
    "    \"overall_accuracy_percent\": number | null\n",
    "}\n",
    "\n",
    "Validation Rules:\n",
    "- \"valid\" is true ONLY if all validation checks are true.\n",
    "- \"full_body\": Entire body must be visible from head to toe.\n",
    "- \"one_person\": Only one person should be visible.\n",
    "- \"standing_pose\": Subject must be standing upright.\n",
    "- \"background_ok\": Plain or uncluttered background.\n",
    "- \"view\": Detect as 'front' (facial features visible), 'back' (no face), or 'unknown'.\n",
    "\n",
    "Measurement Estimation:\n",
    "- Estimate measurements using visible body proportions.\n",
    "- Use known anthropometric ratios if needed.\n",
    "- If estimation is not possible, set values to null.\n",
    "- Provide a single \"overall_accuracy_percent\" between 0-100 indicating confidence in all measurements combined.\n",
    "\n",
    "Important: Return ONLY valid JSON. Do not include markdown or explanation outside the JSON.\n",
    "\"\"\"\n"
   ]
  },
  {
   "cell_type": "code",
   "execution_count": 40,
   "id": "577f9227",
   "metadata": {},
   "outputs": [],
   "source": [
    "def send_to_gemini_validation(image_path: str) -> dict:\n",
    "    try:\n",
    "        image = Image.open(image_path)\n",
    "\n",
    "        model = genai.GenerativeModel(model_name=\"gemini-2.0-flash\")\n",
    "\n",
    "        response = model.generate_content(\n",
    "            [GEMINI_PROMPT.strip(), image],\n",
    "            generation_config={\"temperature\": 0.4}\n",
    "        )\n",
    "\n",
    "        text = response.text.strip()\n",
    "        json_start = text.find('{')\n",
    "        json_end = text.rfind('}') + 1\n",
    "        json_str = text[json_start:json_end]\n",
    "\n",
    "        return json.loads(json_str)\n",
    "\n",
    "    except Exception as e:\n",
    "        return {\"valid\": False, \"reason\": f\"Gemini validation failed: {str(e)}\"}"
   ]
  },
  {
   "cell_type": "code",
   "execution_count": 42,
   "id": "59c13a13",
   "metadata": {},
   "outputs": [
    {
     "name": "stdout",
     "output_type": "stream",
     "text": [
      "{'background_ok': True,\n",
      " 'full_body': True,\n",
      " 'measurements': {'chest_cm': 95,\n",
      "                  'height_cm': 180,\n",
      "                  'hip_cm': 92,\n",
      "                  'inseam_cm': 82,\n",
      "                  'waist_cm': 80},\n",
      " 'one_person': True,\n",
      " 'overall_accuracy_percent': 75,\n",
      " 'reasons': {'background_ok': 'The background is plain and uncluttered.',\n",
      "             'full_body': 'The entire body is visible from head to toe.',\n",
      "             'one_person': 'Only one person is present in the image.',\n",
      "             'standing_pose': 'The person is standing upright.',\n",
      "             'view': 'Facial features are visible, indicating a front view.'},\n",
      " 'standing_pose': True,\n",
      " 'valid': True,\n",
      " 'view': 'front'}\n"
     ]
    }
   ],
   "source": [
    "if __name__ == \"__main__\":\n",
    "    image_path = \"../images/front-image.png\" \n",
    "    result = send_to_gemini_validation(image_path)\n",
    "    pprint.pprint(result)"
   ]
  }
 ],
 "metadata": {
  "kernelspec": {
   "display_name": "venv",
   "language": "python",
   "name": "python3"
  },
  "language_info": {
   "codemirror_mode": {
    "name": "ipython",
    "version": 3
   },
   "file_extension": ".py",
   "mimetype": "text/x-python",
   "name": "python",
   "nbconvert_exporter": "python",
   "pygments_lexer": "ipython3",
   "version": "3.11.0"
  }
 },
 "nbformat": 4,
 "nbformat_minor": 5
}
