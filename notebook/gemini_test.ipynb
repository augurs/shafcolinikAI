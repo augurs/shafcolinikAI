{
 "cells": [
  {
   "cell_type": "code",
   "execution_count": 9,
   "id": "a83e6cf5",
   "metadata": {},
   "outputs": [],
   "source": [
    "\n",
    "import google.generativeai as genai\n",
    "from PIL import Image\n",
    "from dotenv import load_dotenv\n",
    "import json\n",
    "import os\n",
    "from io import BytesIO\n",
    "import pprint"
   ]
  },
  {
   "cell_type": "code",
   "execution_count": 10,
   "id": "2696acdf",
   "metadata": {},
   "outputs": [],
   "source": [
    "load_dotenv()\n",
    "genai.configure(api_key=os.getenv(\"GEMINI_API_KEY\"))"
   ]
  },
  {
   "cell_type": "code",
   "execution_count": 11,
   "id": "fa232cdc",
   "metadata": {},
   "outputs": [],
   "source": [
    "# Gemini prompt\n",
    "GEMINI_PROMPT = (\n",
    "    f\"The person's actual height is 170 cm. \"\n",
    "        \"Using this height as a scaling reference, estimate the person's body measurements from the image with the highest possible accuracy. \"\n",
    "        \"First, detect the person's gender (male or female). \"\n",
    "        \"Analyze the image carefully, considering body shape, proportions, and posture. \"\n",
    "        \"Identify and measure the following body parts: chest, waist, hips, inseam, thigh, neck, and arm length. \"\n",
    "        \"Provide all measurements in centimeters, scaled proportionally to the given height. \"\n",
    "        \"Estimate an overall accuracy score (as a percentage) based on the image quality and measurement confidence. \"\n",
    "        \"Recommend the best clothing size (S, M, L, XL) based on the estimated measurements and gender. \"\n",
    "        \"Return only the result as a strictly valid JSON object, formatted exactly as follows:\\n\\n\"\n",
    "        \"{\\n\"\n",
    "        f'  \"height\": 170,\\n'\n",
    "        '  \"gender\": \"<male_or_female>\",\\n'\n",
    "        '  \"chest\": <value>,\\n'\n",
    "        '  \"waist\": <value>,\\n'\n",
    "        '  \"hips\": <value>,\\n'\n",
    "        '  \"inseam\": <value>,\\n'\n",
    "        '  \"thigh\": <value>,\\n'\n",
    "        '  \"neck\": <value>,\\n'\n",
    "        '  \"arm_length\": <value>,\\n'\n",
    "        '  \"accuracy\": <percentage>,\\n'\n",
    "        '  \"recommended_size\": \"<S_or_M_or_L_or_XL>\"\\n'\n",
    "        \"}\\n\\n\"\n",
    "        \"Only return the JSON — no explanation, no commentary, no extra text.\"\n",
    ")"
   ]
  },
  {
   "cell_type": "code",
   "execution_count": 12,
   "id": "577f9227",
   "metadata": {},
   "outputs": [],
   "source": [
    "def send_to_gemini_validation(image_path: str) -> dict:\n",
    "    try:\n",
    "        image = Image.open(image_path)\n",
    "\n",
    "        model = genai.GenerativeModel(model_name=\"gemini-2.0-flash\")\n",
    "\n",
    "        response = model.generate_content(\n",
    "            [GEMINI_PROMPT.strip(), image],\n",
    "            generation_config={\"temperature\": 0.4}\n",
    "        )\n",
    "\n",
    "        text = response.text.strip()\n",
    "        json_start = text.find('{')\n",
    "        json_end = text.rfind('}') + 1\n",
    "        json_str = text[json_start:json_end]\n",
    "\n",
    "        return json.loads(json_str)\n",
    "\n",
    "    except Exception as e:\n",
    "        return {\"valid\": False, \"reason\": f\"Gemini validation failed: {str(e)}\"}"
   ]
  },
  {
   "cell_type": "code",
   "execution_count": 13,
   "id": "59c13a13",
   "metadata": {},
   "outputs": [
    {
     "name": "stdout",
     "output_type": "stream",
     "text": [
      "{'accuracy': 85,\n",
      " 'arm_length': 60,\n",
      " 'chest': 95,\n",
      " 'gender': 'male',\n",
      " 'height': 170,\n",
      " 'hips': 93,\n",
      " 'inseam': 78,\n",
      " 'neck': 38,\n",
      " 'recommended_size': 'M',\n",
      " 'thigh': 55,\n",
      " 'waist': 80}\n"
     ]
    }
   ],
   "source": [
    "if __name__ == \"__main__\":\n",
    "    image_path = \"../images/front-image.png\" \n",
    "    result = send_to_gemini_validation(image_path)\n",
    "    pprint.pprint(result)"
   ]
  }
 ],
 "metadata": {
  "kernelspec": {
   "display_name": "venv",
   "language": "python",
   "name": "python3"
  },
  "language_info": {
   "codemirror_mode": {
    "name": "ipython",
    "version": 3
   },
   "file_extension": ".py",
   "mimetype": "text/x-python",
   "name": "python",
   "nbconvert_exporter": "python",
   "pygments_lexer": "ipython3",
   "version": "3.11.0"
  }
 },
 "nbformat": 4,
 "nbformat_minor": 5
}
